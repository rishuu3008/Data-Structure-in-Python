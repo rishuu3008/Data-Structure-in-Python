{
 "cells": [
  {
   "cell_type": "code",
   "execution_count": 1,
   "id": "a474dae1-b0fe-452f-8e67-311e57102f5a",
   "metadata": {},
   "outputs": [],
   "source": [
    "#Assignment >> Data Structures In Python"
   ]
  },
  {
   "cell_type": "code",
   "execution_count": 28,
   "id": "76e2b6e4-eb55-4acc-a7f6-1b380141136a",
   "metadata": {},
   "outputs": [
    {
     "name": "stdin",
     "output_type": "stream",
     "text": [
      "Enter a string ksjds\n"
     ]
    },
    {
     "data": {
      "text/plain": [
       "'sdjsk'"
      ]
     },
     "execution_count": 28,
     "metadata": {},
     "output_type": "execute_result"
    }
   ],
   "source": [
    "#Question 1. >> Write a code to reverse a string\n",
    "\n",
    "s = input(\"Enter a string\")\n",
    "reverse = s[::-1]\n",
    "reverse"
   ]
  },
  {
   "cell_type": "code",
   "execution_count": 7,
   "id": "f3aaa639-35a5-4253-a260-d8dd469afa51",
   "metadata": {},
   "outputs": [
    {
     "name": "stdin",
     "output_type": "stream",
     "text": [
      "Enter a string pwskills\n"
     ]
    },
    {
     "data": {
      "text/plain": [
       "1"
      ]
     },
     "execution_count": 7,
     "metadata": {},
     "output_type": "execute_result"
    }
   ],
   "source": [
    "#Question 2. >> Write a code to count vowels in a string\n",
    "\n",
    "s = input(\"Enter a string\")\n",
    "vowels = tuple(\"aeiouAEIOU\")\n",
    "count = 0;\n",
    "\n",
    "for i in s:\n",
    "    if i in vowels:\n",
    "        count += 1\n",
    "        \n",
    "count"
   ]
  },
  {
   "cell_type": "code",
   "execution_count": 8,
   "id": "1cfaeb0d-fb65-417e-8dcf-4bdcd6d3c8c8",
   "metadata": {},
   "outputs": [
    {
     "name": "stdin",
     "output_type": "stream",
     "text": [
      "Enter a string aabaa\n"
     ]
    },
    {
     "data": {
      "text/plain": [
       "True"
      ]
     },
     "execution_count": 8,
     "metadata": {},
     "output_type": "execute_result"
    }
   ],
   "source": [
    "#Question 3. >> Write a code to check if given string is a palindrome or not\n",
    "string = input(\"Enter a string\")\n",
    "\n",
    "string == string[::-1]"
   ]
  },
  {
   "cell_type": "code",
   "execution_count": 9,
   "id": "5f1f31a2-a560-4116-979b-b97b90e6856b",
   "metadata": {},
   "outputs": [
    {
     "name": "stdin",
     "output_type": "stream",
     "text": [
      "Enter string one silent\n",
      "Enter string two listen\n"
     ]
    },
    {
     "data": {
      "text/plain": [
       "True"
      ]
     },
     "execution_count": 9,
     "metadata": {},
     "output_type": "execute_result"
    }
   ],
   "source": [
    "#Question 4. >> Write a code to check if two given strings are anagrams or not\n",
    "s1 = input(\"Enter string one\")\n",
    "s2 = input(\"Enter string two\")\n",
    "\n",
    "sorted(s1) == sorted(s2)"
   ]
  },
  {
   "cell_type": "code",
   "execution_count": 12,
   "id": "2fcd0a7f-4cbb-4818-b3d9-733249841d8a",
   "metadata": {},
   "outputs": [
    {
     "name": "stdin",
     "output_type": "stream",
     "text": [
      "Enter the string pwskills\n",
      "Enter the substring ll\n"
     ]
    },
    {
     "data": {
      "text/plain": [
       "1"
      ]
     },
     "execution_count": 12,
     "metadata": {},
     "output_type": "execute_result"
    }
   ],
   "source": [
    "#Question 5. >> Write a code to find all occurences of a given substring within another string\n",
    "\n",
    "string = input(\"Enter the string\")\n",
    "substring = input(\"Enter the substring\")\n",
    "\n",
    "string.count(substring)"
   ]
  },
  {
   "cell_type": "code",
   "execution_count": 18,
   "id": "9e7e7be3-a9d8-49e3-9977-3682085b75bd",
   "metadata": {},
   "outputs": [
    {
     "name": "stdin",
     "output_type": "stream",
     "text": [
      "Enter a string containing of repeated characters bbbbbzzzzzccccaaaa\n"
     ]
    },
    {
     "name": "stdout",
     "output_type": "stream",
     "text": [
      "{'a', 'c', 'b', 'z'}\n",
      "acbz\n"
     ]
    }
   ],
   "source": [
    "# Question 6. >> Write a code to perform basic string compression using the counts of repeated characters\n",
    "\n",
    "string = input(\"Enter a string containing of repeated characters\")\n",
    "s = set(string)\n",
    "print(s)\n",
    "string  = ''.join(s)\n",
    "print(string)"
   ]
  },
  {
   "cell_type": "code",
   "execution_count": 21,
   "id": "3ed75403-f40f-4bf2-95c2-c7d95a06113e",
   "metadata": {},
   "outputs": [
    {
     "name": "stdin",
     "output_type": "stream",
     "text": [
      "Enter a string Rishu\n"
     ]
    },
    {
     "name": "stdout",
     "output_type": "stream",
     "text": [
      "True\n"
     ]
    }
   ],
   "source": [
    "# Question 7. >> Write a code to determine if a string has all unique characters\n",
    "\n",
    "string = input(\"Enter a string\")\n",
    "s = set(string)\n",
    "print(len(string) == len(s))"
   ]
  },
  {
   "cell_type": "code",
   "execution_count": 22,
   "id": "5f3d96a1-ed8e-4799-8cb0-5604ea9fb595",
   "metadata": {},
   "outputs": [
    {
     "name": "stdin",
     "output_type": "stream",
     "text": [
      "Enter a string Rishu Bhardwaj\n"
     ]
    },
    {
     "name": "stdout",
     "output_type": "stream",
     "text": [
      "rishu bhardwaj\n",
      "RISHU BHARDWAJ\n"
     ]
    }
   ],
   "source": [
    "# Question 8. >> Write a code to convert a string to lowercase or uppercase\n",
    "\n",
    "string = input(\"Enter a string\")\n",
    "print(string.lower())\n",
    "print(string.upper())"
   ]
  },
  {
   "cell_type": "code",
   "execution_count": 26,
   "id": "7250b323-3cca-4d78-82fd-288e68100215",
   "metadata": {},
   "outputs": [
    {
     "name": "stdin",
     "output_type": "stream",
     "text": [
      "Enter a string rishu bhardwaj\n"
     ]
    },
    {
     "name": "stdout",
     "output_type": "stream",
     "text": [
      "2\n"
     ]
    }
   ],
   "source": [
    "# Question 9. >> Write a code to count number of words in a string\n",
    "\n",
    "string = input(\"Enter a string\")\n",
    "words = string.split()\n",
    "print(len(words))"
   ]
  },
  {
   "cell_type": "code",
   "execution_count": 33,
   "id": "18a610c9-b117-48ff-b6ed-14b263ba1beb",
   "metadata": {},
   "outputs": [
    {
     "name": "stdin",
     "output_type": "stream",
     "text": [
      "Enter string one one two\n",
      "Enter string two three four\n"
     ]
    },
    {
     "data": {
      "text/plain": [
       "'one two three four'"
      ]
     },
     "execution_count": 33,
     "metadata": {},
     "output_type": "execute_result"
    }
   ],
   "source": [
    "# Question 10. >> Write a code to concatenate two strings without using + operator\n",
    "\n",
    "str1 = input(\"Enter string one\")\n",
    "str2 = input(\"Enter string two\")\n",
    "\n",
    "f\"{str1} {str2}\""
   ]
  },
  {
   "cell_type": "code",
   "execution_count": 51,
   "id": "5f98d1ee-fba5-4022-a6aa-ff978135061d",
   "metadata": {},
   "outputs": [
    {
     "name": "stdin",
     "output_type": "stream",
     "text": [
      "Enter the size of list 3\n"
     ]
    },
    {
     "name": "stdout",
     "output_type": "stream",
     "text": [
      "Enter element 1\n"
     ]
    },
    {
     "name": "stdin",
     "output_type": "stream",
     "text": [
      " 9\n"
     ]
    },
    {
     "name": "stdout",
     "output_type": "stream",
     "text": [
      "Enter element 2\n"
     ]
    },
    {
     "name": "stdin",
     "output_type": "stream",
     "text": [
      " 9\n"
     ]
    },
    {
     "name": "stdout",
     "output_type": "stream",
     "text": [
      "Enter element 3\n"
     ]
    },
    {
     "name": "stdin",
     "output_type": "stream",
     "text": [
      " 9\n",
      "Enter the element to remove 9\n"
     ]
    },
    {
     "name": "stdout",
     "output_type": "stream",
     "text": [
      "[]\n"
     ]
    }
   ],
   "source": [
    "# Questions 11. >> Write a code to remove all occurence of a element from a list\n",
    "\n",
    "lis = []\n",
    "n = int(input(\"Enter the size of list\"))\n",
    "\n",
    "for i in range(0,n):\n",
    "    print(f\"Enter element {i+1}\")\n",
    "    lis.append(input())\n",
    "    \n",
    "element = input('Enter the element to remove')\n",
    "\n",
    "lis = [x for x in lis if x != element]\n",
    "print(lis)"
   ]
  },
  {
   "cell_type": "code",
   "execution_count": 52,
   "id": "e47d64d6-66a8-4d8a-b035-dac5c8a57fae",
   "metadata": {},
   "outputs": [
    {
     "name": "stdin",
     "output_type": "stream",
     "text": [
      "Enter the size of the list 6\n",
      " 7\n",
      " 74\n",
      " 98\n",
      " 36\n",
      " 49\n",
      " 57\n"
     ]
    },
    {
     "name": "stdout",
     "output_type": "stream",
     "text": [
      "74\n"
     ]
    }
   ],
   "source": [
    "# Question 12. >> Implement a code to find the second largest element in a given list of integers\n",
    "\n",
    "lis = []\n",
    "n = int(input(\"Enter the size of the list\"))\n",
    "\n",
    "for i in range(0,n):\n",
    "    lis.append(int(input()))\n",
    "    \n",
    "largest = lis[0]\n",
    "sec_largest = lis[0]\n",
    "\n",
    "for i in range(1,n):\n",
    "    if lis[i] > largest:\n",
    "        sec_largest = largest\n",
    "        largest = lis[i]\n",
    "        \n",
    "    if lis[i] > sec_largest and lis[i] < largest:\n",
    "        sec_largest = lis[i]\n",
    "        \n",
    "print(sec_largest)"
   ]
  },
  {
   "cell_type": "code",
   "execution_count": 56,
   "id": "ef530864-0bb0-4c10-840b-f87cf0539aa5",
   "metadata": {},
   "outputs": [
    {
     "name": "stdin",
     "output_type": "stream",
     "text": [
      "Enter the size of the list 5\n"
     ]
    },
    {
     "name": "stdout",
     "output_type": "stream",
     "text": [
      "Enter 1th element\n"
     ]
    },
    {
     "name": "stdin",
     "output_type": "stream",
     "text": [
      " 56\n"
     ]
    },
    {
     "name": "stdout",
     "output_type": "stream",
     "text": [
      "Enter 2th element\n"
     ]
    },
    {
     "name": "stdin",
     "output_type": "stream",
     "text": [
      " 87\n"
     ]
    },
    {
     "name": "stdout",
     "output_type": "stream",
     "text": [
      "Enter 3th element\n"
     ]
    },
    {
     "name": "stdin",
     "output_type": "stream",
     "text": [
      " 56\n"
     ]
    },
    {
     "name": "stdout",
     "output_type": "stream",
     "text": [
      "Enter 4th element\n"
     ]
    },
    {
     "name": "stdin",
     "output_type": "stream",
     "text": [
      " 34\n"
     ]
    },
    {
     "name": "stdout",
     "output_type": "stream",
     "text": [
      "Enter 5th element\n"
     ]
    },
    {
     "name": "stdin",
     "output_type": "stream",
     "text": [
      " 98\n"
     ]
    },
    {
     "name": "stdout",
     "output_type": "stream",
     "text": [
      "{'56': 2, '87': 1, '34': 1, '98': 1}\n"
     ]
    }
   ],
   "source": [
    "# Question 13. >> Create a code to count the occurence of each element in a list and return a dictionary with elements as\n",
    "#                 keys and their counts as values\n",
    "\n",
    "lis = []\n",
    "dic = {}\n",
    "n = int(input(\"Enter the size of the list\"))\n",
    "\n",
    "for i in range(0,n):\n",
    "    print(f\"Enter {i+1}th element\")\n",
    "    element = input()\n",
    "    lis.append(element)\n",
    "    \n",
    "    if element in dic:\n",
    "        dic[element] += 1\n",
    "    else:\n",
    "        dic[element] = 1\n",
    "\n",
    "print(dic)"
   ]
  },
  {
   "cell_type": "code",
   "execution_count": 25,
   "id": "d77ac5bf-0641-4a75-bd5c-18b5b421febe",
   "metadata": {},
   "outputs": [
    {
     "name": "stdin",
     "output_type": "stream",
     "text": [
      "Enter the size of the list 7\n"
     ]
    },
    {
     "name": "stdout",
     "output_type": "stream",
     "text": [
      "Enter 1th element\n"
     ]
    },
    {
     "name": "stdin",
     "output_type": "stream",
     "text": [
      " 56\n"
     ]
    },
    {
     "name": "stdout",
     "output_type": "stream",
     "text": [
      "Enter 2th element\n"
     ]
    },
    {
     "name": "stdin",
     "output_type": "stream",
     "text": [
      " 87\n"
     ]
    },
    {
     "name": "stdout",
     "output_type": "stream",
     "text": [
      "Enter 3th element\n"
     ]
    },
    {
     "name": "stdin",
     "output_type": "stream",
     "text": [
      " 43\n"
     ]
    },
    {
     "name": "stdout",
     "output_type": "stream",
     "text": [
      "Enter 4th element\n"
     ]
    },
    {
     "name": "stdin",
     "output_type": "stream",
     "text": [
      " 97\n"
     ]
    },
    {
     "name": "stdout",
     "output_type": "stream",
     "text": [
      "Enter 5th element\n"
     ]
    },
    {
     "name": "stdin",
     "output_type": "stream",
     "text": [
      " 3\n"
     ]
    },
    {
     "name": "stdout",
     "output_type": "stream",
     "text": [
      "Enter 6th element\n"
     ]
    },
    {
     "name": "stdin",
     "output_type": "stream",
     "text": [
      " 8\n"
     ]
    },
    {
     "name": "stdout",
     "output_type": "stream",
     "text": [
      "Enter 7th element\n"
     ]
    },
    {
     "name": "stdin",
     "output_type": "stream",
     "text": [
      " 1\n"
     ]
    },
    {
     "name": "stdout",
     "output_type": "stream",
     "text": [
      "['56', '87', '43', '97', '3', '8', '1']\n",
      "['1', '8', '3', '97', '43', '87', '56']\n"
     ]
    }
   ],
   "source": [
    "# Question 14. >> Write a code to reverse a list in-place without using any built-in reverse funtion\n",
    "\n",
    "lis = []\n",
    "n = int(input(\"Enter the size of the list\"))\n",
    "\n",
    "for i in range(0,n):\n",
    "    print(f\"Enter {i+1}th element\")\n",
    "    lis.append(input())\n",
    "    \n",
    "print(lis)\n",
    "    \n",
    "i = 0\n",
    "j = n-1\n",
    "\n",
    "while(i<j):\n",
    "    lis[i],lis[j] = lis[j],lis[i]\n",
    "    i += 1\n",
    "    j -= 1\n",
    "    \n",
    "    \n",
    "print(lis)"
   ]
  },
  {
   "cell_type": "code",
   "execution_count": 3,
   "id": "ddbb5e80-3519-4015-8cde-da4525e149ab",
   "metadata": {},
   "outputs": [
    {
     "name": "stdin",
     "output_type": "stream",
     "text": [
      "Enter size of list 10\n"
     ]
    },
    {
     "name": "stdout",
     "output_type": "stream",
     "text": [
      "Enter 1th element\n"
     ]
    },
    {
     "name": "stdin",
     "output_type": "stream",
     "text": [
      " 6\n"
     ]
    },
    {
     "name": "stdout",
     "output_type": "stream",
     "text": [
      "Enter 2th element\n"
     ]
    },
    {
     "name": "stdin",
     "output_type": "stream",
     "text": [
      " 8\n"
     ]
    },
    {
     "name": "stdout",
     "output_type": "stream",
     "text": [
      "Enter 3th element\n"
     ]
    },
    {
     "name": "stdin",
     "output_type": "stream",
     "text": [
      " 4\n"
     ]
    },
    {
     "name": "stdout",
     "output_type": "stream",
     "text": [
      "Enter 4th element\n"
     ]
    },
    {
     "name": "stdin",
     "output_type": "stream",
     "text": [
      " 9\n"
     ]
    },
    {
     "name": "stdout",
     "output_type": "stream",
     "text": [
      "Enter 5th element\n"
     ]
    },
    {
     "name": "stdin",
     "output_type": "stream",
     "text": [
      " 6\n"
     ]
    },
    {
     "name": "stdout",
     "output_type": "stream",
     "text": [
      "Enter 6th element\n"
     ]
    },
    {
     "name": "stdin",
     "output_type": "stream",
     "text": [
      " 5\n"
     ]
    },
    {
     "name": "stdout",
     "output_type": "stream",
     "text": [
      "Enter 7th element\n"
     ]
    },
    {
     "name": "stdin",
     "output_type": "stream",
     "text": [
      " 4\n"
     ]
    },
    {
     "name": "stdout",
     "output_type": "stream",
     "text": [
      "Enter 8th element\n"
     ]
    },
    {
     "name": "stdin",
     "output_type": "stream",
     "text": [
      " 9\n"
     ]
    },
    {
     "name": "stdout",
     "output_type": "stream",
     "text": [
      "Enter 9th element\n"
     ]
    },
    {
     "name": "stdin",
     "output_type": "stream",
     "text": [
      " 8\n"
     ]
    },
    {
     "name": "stdout",
     "output_type": "stream",
     "text": [
      "Enter 10th element\n"
     ]
    },
    {
     "name": "stdin",
     "output_type": "stream",
     "text": [
      " 7\n"
     ]
    },
    {
     "name": "stdout",
     "output_type": "stream",
     "text": [
      "['6', '8', '4', '9', '6', '5', '4', '9', '8', '7']\n",
      "['6', '8', '4', '9', '5', '7']\n"
     ]
    }
   ],
   "source": [
    "# Question 15. >> Implement a code to find and remove duplicates from a list while preserving the original \n",
    "#                 order of the elements\n",
    "\n",
    "lis = []\n",
    "res = []\n",
    "n = int(input(\"Enter size of list\"))\n",
    "\n",
    "for i in range(0,n):\n",
    "    print(f\"Enter {i+1}th element\")\n",
    "    lis.append(input())\n",
    "    \n",
    "print(lis)\n",
    "    \n",
    "for i in lis:\n",
    "    if i not in res:\n",
    "        res.append(i)\n",
    "        \n",
    "print(res)"
   ]
  },
  {
   "cell_type": "code",
   "execution_count": 12,
   "id": "62e594e0-f7eb-4352-824a-57983db75eea",
   "metadata": {},
   "outputs": [
    {
     "name": "stdin",
     "output_type": "stream",
     "text": [
      "Enter the size of the list 5\n"
     ]
    },
    {
     "name": "stdout",
     "output_type": "stream",
     "text": [
      "Enter 1th element\n"
     ]
    },
    {
     "name": "stdin",
     "output_type": "stream",
     "text": [
      " 3\n"
     ]
    },
    {
     "name": "stdout",
     "output_type": "stream",
     "text": [
      "Enter 2th element\n"
     ]
    },
    {
     "name": "stdin",
     "output_type": "stream",
     "text": [
      " 4\n"
     ]
    },
    {
     "name": "stdout",
     "output_type": "stream",
     "text": [
      "Enter 3th element\n"
     ]
    },
    {
     "name": "stdin",
     "output_type": "stream",
     "text": [
      " 5\n"
     ]
    },
    {
     "name": "stdout",
     "output_type": "stream",
     "text": [
      "Enter 4th element\n"
     ]
    },
    {
     "name": "stdin",
     "output_type": "stream",
     "text": [
      " 1\n"
     ]
    },
    {
     "name": "stdout",
     "output_type": "stream",
     "text": [
      "Enter 5th element\n"
     ]
    },
    {
     "name": "stdin",
     "output_type": "stream",
     "text": [
      " 2\n"
     ]
    },
    {
     "name": "stdout",
     "output_type": "stream",
     "text": [
      "False\n"
     ]
    }
   ],
   "source": [
    "# Question 16. >> Create a code to check if a given list is sorted or not\n",
    "\n",
    "lis = []\n",
    "n = int(input(\"Enter the size of the list\"))\n",
    "\n",
    "for i in range(0,n):\n",
    "    print(f\"Enter {i+1}th element\")\n",
    "    lis.append(int(input()))\n",
    "    \n",
    "ascending = True\n",
    "descending = True\n",
    "for i in range(1,n):\n",
    "    ascending = ascending and lis[i]<lis[i-1]\n",
    "    \n",
    "    descending = descending and lis[i]>lis[i-1]\n",
    "    \n",
    "print(ascending or descending)"
   ]
  },
  {
   "cell_type": "code",
   "execution_count": 15,
   "id": "84e17659-23fb-4c9c-a8d4-79a805c8a5a8",
   "metadata": {},
   "outputs": [
    {
     "name": "stdout",
     "output_type": "stream",
     "text": [
      "[1, 2, 3, 4, 5, 6, 7, 8, 9, 10]\n"
     ]
    }
   ],
   "source": [
    "# Question 17. >> Write a code to merge two sorted list into single sorted list\n",
    "\n",
    "lis1 = [1,3,5,7,9]\n",
    "lis2 = [2,4,6,8,10]\n",
    "merged_list = []\n",
    "\n",
    "i = 0\n",
    "j = 0\n",
    "\n",
    "while i<len(lis1) and j<len(lis2):\n",
    "    if lis1[i] < lis2[j]:\n",
    "        merged_list.append(lis1[i])\n",
    "        i += 1\n",
    "    else:\n",
    "        merged_list.append(lis2[j])\n",
    "        j += 1\n",
    "        \n",
    "while i < len(lis1):\n",
    "    merged_list.append(lis1[i])\n",
    "    i += 1\n",
    "    \n",
    "while j < len(lis2):\n",
    "    merged_list.append(lis2[j])\n",
    "    j += 1\n",
    "    \n",
    "print(merged_list)"
   ]
  },
  {
   "cell_type": "code",
   "execution_count": 23,
   "id": "59fbba4a-648a-463c-bcfc-052c8fc2f9f7",
   "metadata": {},
   "outputs": [
    {
     "name": "stdout",
     "output_type": "stream",
     "text": [
      "[5, 6, 7]\n"
     ]
    }
   ],
   "source": [
    "# Question 18. >> Implement to find intersection of two given list\n",
    "\n",
    "lis1 = [5,6,3,8,2,7]\n",
    "lis2 = [5,9,1,6,4,7]\n",
    "\n",
    "lis = [item for item in  lis1 if item in lis2]\n",
    "\n",
    "#                     OR\n",
    "\n",
    "lis = list(set(lis1) & set(lis2))\n",
    "\n",
    "print(lis)"
   ]
  },
  {
   "cell_type": "code",
   "execution_count": 24,
   "id": "54432f97-788f-4ed8-a452-f93d6764323e",
   "metadata": {},
   "outputs": [
    {
     "name": "stdout",
     "output_type": "stream",
     "text": [
      "[1, 2, 3, 4, 5, 6, 7, 8, 9]\n"
     ]
    }
   ],
   "source": [
    "# Question 19. >> Create a code to find union of two lists without duplicates\n",
    "\n",
    "lis1 = [1,4,6,3,8,7]\n",
    "lis2 = [5,7,8,2,9]\n",
    "\n",
    "lis = [item for item in lis1 if item not in lis2]\n",
    "\n",
    "#                        OR\n",
    "\n",
    "lis = list(set(lis1) | set(lis2))\n",
    "\n",
    "print(lis)"
   ]
  },
  {
   "cell_type": "code",
   "execution_count": 29,
   "id": "3aef4114-b62a-4620-b109-3b3ebf2c6a86",
   "metadata": {},
   "outputs": [
    {
     "name": "stdin",
     "output_type": "stream",
     "text": [
      "Enter the size of list 6\n"
     ]
    },
    {
     "name": "stdout",
     "output_type": "stream",
     "text": [
      "Enter 1th element\n"
     ]
    },
    {
     "name": "stdin",
     "output_type": "stream",
     "text": [
      " 1\n"
     ]
    },
    {
     "name": "stdout",
     "output_type": "stream",
     "text": [
      "Enter 2th element\n"
     ]
    },
    {
     "name": "stdin",
     "output_type": "stream",
     "text": [
      " 2\n"
     ]
    },
    {
     "name": "stdout",
     "output_type": "stream",
     "text": [
      "Enter 3th element\n"
     ]
    },
    {
     "name": "stdin",
     "output_type": "stream",
     "text": [
      " 3\n"
     ]
    },
    {
     "name": "stdout",
     "output_type": "stream",
     "text": [
      "Enter 4th element\n"
     ]
    },
    {
     "name": "stdin",
     "output_type": "stream",
     "text": [
      " 4\n"
     ]
    },
    {
     "name": "stdout",
     "output_type": "stream",
     "text": [
      "Enter 5th element\n"
     ]
    },
    {
     "name": "stdin",
     "output_type": "stream",
     "text": [
      " 5\n"
     ]
    },
    {
     "name": "stdout",
     "output_type": "stream",
     "text": [
      "Enter 6th element\n"
     ]
    },
    {
     "name": "stdin",
     "output_type": "stream",
     "text": [
      " 6\n"
     ]
    },
    {
     "name": "stdout",
     "output_type": "stream",
     "text": [
      "['1', '2', '3', '4', '5', '6']\n",
      "['4', '1', '5', '3', '2', '6']\n"
     ]
    }
   ],
   "source": [
    "# Question 20. >> Write a code to shuffle to a given list randomly without using any built-in shuffle function\n",
    "\n",
    "import random\n",
    "\n",
    "lis = []\n",
    "n = int(input(\"Enter the size of list\"))\n",
    "\n",
    "for i in range(0,n):\n",
    "    print(f\"Enter {i+1}th element\")\n",
    "    lis.append(input())\n",
    "    \n",
    "print(lis)\n",
    "    \n",
    "for i in range(0,n):\n",
    "    j = random.randint(0,n-1)\n",
    "    lis[i],lis[j] = lis[j],lis[i]\n",
    "    \n",
    "print(lis)"
   ]
  },
  {
   "cell_type": "code",
   "execution_count": 3,
   "id": "131c7924-68a3-4b79-af2e-0085c431ff82",
   "metadata": {},
   "outputs": [
    {
     "name": "stdout",
     "output_type": "stream",
     "text": [
      "(8, 1, 2, 3)\n"
     ]
    }
   ],
   "source": [
    "# Question 21. >> Write a code that takes two tuples as input and returns a new tuple containing elements that are \n",
    "#                  common in both input tuples\n",
    "\n",
    "def common_tuple(tup1, tup2):\n",
    "    return tuple(set(tup1) & set(tup2))\n",
    "    \n",
    "    \n",
    "print(common_tuple((1,2,3,56,8,5), (6,3,2,6,8,1,8)))"
   ]
  },
  {
   "cell_type": "code",
   "execution_count": 6,
   "id": "50d05604-99e4-4be7-ba23-d81a8540b03a",
   "metadata": {},
   "outputs": [
    {
     "name": "stdin",
     "output_type": "stream",
     "text": [
      "Enter the size of first set 3\n",
      "Enter the size of second set 4\n"
     ]
    },
    {
     "name": "stdout",
     "output_type": "stream",
     "text": [
      "Enter integer elements of the set one\n"
     ]
    },
    {
     "name": "stdin",
     "output_type": "stream",
     "text": [
      " 2\n",
      " 4\n",
      " 7\n"
     ]
    },
    {
     "name": "stdout",
     "output_type": "stream",
     "text": [
      "{2, 4, 7}\n",
      "Enter integer elements of set two\n"
     ]
    },
    {
     "name": "stdin",
     "output_type": "stream",
     "text": [
      " 4\n",
      " 7\n",
      " 1\n",
      " 9\n"
     ]
    },
    {
     "name": "stdout",
     "output_type": "stream",
     "text": [
      "{1, 4, 9, 7}\n",
      "{4, 7}\n"
     ]
    }
   ],
   "source": [
    "# Question 22. >> Create a code that prompts the user to enter two sets of integers seperated by commas.\n",
    "#                 Then, print the intersection of these two sets\n",
    "\n",
    "s1 = set()\n",
    "s2 = set()\n",
    "n1 = int(input(\"Enter the size of first set\"))\n",
    "n2 = int(input(\"Enter the size of second set\"))\n",
    "\n",
    "print(\"Enter integer elements of the set one\")\n",
    "s1 = set(int(input()) for i in range(0,n1))  \n",
    "print(s1)\n",
    "\n",
    "print(\"Enter integer elements of set two\")\n",
    "s2 = set(int(input()) for i in range(0,n2))\n",
    "print(s2)\n",
    "    \n",
    "print(s1 & s2)"
   ]
  },
  {
   "cell_type": "code",
   "execution_count": 6,
   "id": "325be891-8677-4bd7-8784-20c6fbfd4ca4",
   "metadata": {},
   "outputs": [
    {
     "name": "stdout",
     "output_type": "stream",
     "text": [
      "{2, 3, 4, 5, 14, 52}\n"
     ]
    }
   ],
   "source": [
    "# Question 23. >> Write a code to concatenate two tuples. The function should take two tuples as input and return a new tuple\n",
    "#                 containing elements from both input tuples\n",
    "\n",
    "def common_tuple(tup1,tup2):\n",
    "    return set(tup1) | set(tup2)\n",
    "\n",
    "print(common_tuple((3,5,2,5,4,3,5),(4,3,52,2,5,2,14,4)))"
   ]
  },
  {
   "cell_type": "code",
   "execution_count": 11,
   "id": "d86811e5-9daf-4a47-a7b2-fb4f0c4162cd",
   "metadata": {},
   "outputs": [
    {
     "name": "stdin",
     "output_type": "stream",
     "text": [
      "Enter the size of first set 3\n",
      "Enter the size of second set 4\n"
     ]
    },
    {
     "name": "stdout",
     "output_type": "stream",
     "text": [
      "Enter string elements of the set one\n"
     ]
    },
    {
     "name": "stdin",
     "output_type": "stream",
     "text": [
      " rishu\n",
      " ajay\n",
      " bijay\n"
     ]
    },
    {
     "name": "stdout",
     "output_type": "stream",
     "text": [
      "{'bijay', 'rishu', 'ajay'}\n",
      "Enter string elements of set two\n"
     ]
    },
    {
     "name": "stdin",
     "output_type": "stream",
     "text": [
      " rishu\n",
      " ajay\n",
      " dharampal\n",
      " rampal\n"
     ]
    },
    {
     "name": "stdout",
     "output_type": "stream",
     "text": [
      "{'dharampal', 'rishu', 'ajay', 'rampal'}\n",
      "{'bijay'}\n"
     ]
    }
   ],
   "source": [
    "# Question 24. >> Develope a code that prompts the user to input two set of strings. Then print the elements that are present\n",
    "#                 in the first set but not in second set\n",
    "\n",
    "s1 = set()\n",
    "s2 = set()\n",
    "n1 = int(input(\"Enter the size of first set\"))\n",
    "n2 = int(input(\"Enter the size of second set\"))\n",
    "\n",
    "print(\"Enter string elements of the set one\")\n",
    "s1 = set(str(input()) for i in range(0,n1))  \n",
    "print(s1)\n",
    "\n",
    "print(\"Enter string elements of set two\")\n",
    "s2 = set(str(input()) for i in range(0,n2))\n",
    "print(s2)\n",
    "\n",
    "print(s1 - s2)"
   ]
  },
  {
   "cell_type": "code",
   "execution_count": 2,
   "id": "4abc7653-c87c-435e-996a-dccccd7a18c1",
   "metadata": {},
   "outputs": [
    {
     "data": {
      "text/plain": [
       "(3, 4, 5, 6, 7)"
      ]
     },
     "execution_count": 2,
     "metadata": {},
     "output_type": "execute_result"
    }
   ],
   "source": [
    "# Question 25. >> Create a code that takes a tuple and two integers as input. The function should return a new tuple\n",
    "#                 containing elements from the original tuple within the specified range of indecies\n",
    "\n",
    "def range_(tup,a,b):\n",
    "    return tup[a:b]\n",
    "\n",
    "range_((1,2,3,4,5,6,7,8,9,10), 2,7)"
   ]
  },
  {
   "cell_type": "code",
   "execution_count": 2,
   "id": "cb6f28cc-0a7e-4f8e-873e-d69b4014bc5c",
   "metadata": {},
   "outputs": [
    {
     "name": "stdin",
     "output_type": "stream",
     "text": [
      "Enter the size of first set 3\n",
      "Enter the size of second set 4\n"
     ]
    },
    {
     "name": "stdout",
     "output_type": "stream",
     "text": [
      "Enter the characters of first set\n"
     ]
    },
    {
     "name": "stdin",
     "output_type": "stream",
     "text": [
      " \n",
      " h\n",
      " j\n"
     ]
    },
    {
     "name": "stdout",
     "output_type": "stream",
     "text": [
      "Enter the characters of second set\n"
     ]
    },
    {
     "name": "stdin",
     "output_type": "stream",
     "text": [
      " d\n",
      " \n",
      " g\n",
      " h\n"
     ]
    },
    {
     "name": "stdout",
     "output_type": "stream",
     "text": [
      "{'', 'd', 'g', 'h', 'j'}\n"
     ]
    }
   ],
   "source": [
    "# Question 26. >> Write a code that prompts the user to input two set of characters. Then print the union of these two sets\n",
    "\n",
    "n1 = int(input(\"Enter the size of first set\"))\n",
    "n2 = int(input(\"Enter the size of second set\"))\n",
    "\n",
    "\n",
    "print(\"Enter the characters of first set\")\n",
    "set1 = set(input() for item in range(n1))\n",
    "\n",
    "print(\"Enter the characters of second set\")\n",
    "set2 = set(input() for item in range(n2))\n",
    "\n",
    "print(set1 | set2)\n"
   ]
  },
  {
   "cell_type": "code",
   "execution_count": 2,
   "id": "bc5b21c2-fa7f-49cb-81fd-acc58e25dfb3",
   "metadata": {},
   "outputs": [
    {
     "data": {
      "text/plain": [
       "(10, 1)"
      ]
     },
     "execution_count": 2,
     "metadata": {},
     "output_type": "execute_result"
    }
   ],
   "source": [
    "# Question 27. >> Create a code that takes tuple of integers as input. The function should return the maximum and minimum values \n",
    "#                 from the tuple using tuple unpacking\n",
    "\n",
    "def max_min(tup):\n",
    "    return max(tup),min(tup)\n",
    "\n",
    "max_min((1,2,3,4,5,6,7,8,9,10))"
   ]
  },
  {
   "cell_type": "code",
   "execution_count": 4,
   "id": "6f20c739-8e68-48db-b566-42ab8a79a130",
   "metadata": {},
   "outputs": [
    {
     "name": "stdin",
     "output_type": "stream",
     "text": [
      "Enter the size of first set 3\n",
      "Enter the size of second set 4\n"
     ]
    },
    {
     "name": "stdout",
     "output_type": "stream",
     "text": [
      "Enter the elements of first set\n"
     ]
    },
    {
     "name": "stdin",
     "output_type": "stream",
     "text": [
      " 3\n",
      " 4\n",
      " 5\n"
     ]
    },
    {
     "name": "stdout",
     "output_type": "stream",
     "text": [
      "Enter the elements of second set\n"
     ]
    },
    {
     "name": "stdin",
     "output_type": "stream",
     "text": [
      " 6\n",
      " 7\n",
      " 8\n",
      " 9\n"
     ]
    },
    {
     "name": "stdout",
     "output_type": "stream",
     "text": [
      "{'3', '5', '7', '9', '6', '4', '8'}\n",
      "set()\n",
      "{'3', '5', '4'}\n"
     ]
    }
   ],
   "source": [
    "# Question 28. >> Create a code that defines two set of integers. Then, print union, intersection and difference of these two sets\n",
    "\n",
    "n1 = int(input(\"Enter the size of first set\"))\n",
    "n2 = int(input(\"Enter the size of second set\"))\n",
    "\n",
    "print(\"Enter the elements of first set\")\n",
    "set1 = set(input() for i in range(n1))\n",
    "\n",
    "print(\"Enter the elements of second set\")\n",
    "set2 = set(input() for i in range(n2))\n",
    "\n",
    "print(set1 | set2)\n",
    "print(set1 & set2)\n",
    "print(set1 - set2)"
   ]
  },
  {
   "cell_type": "code",
   "execution_count": 6,
   "id": "e4f18e8f-1390-40a1-8903-c397e03a13e7",
   "metadata": {},
   "outputs": [
    {
     "name": "stdout",
     "output_type": "stream",
     "text": [
      "3\n"
     ]
    }
   ],
   "source": [
    "# Question 29. >> Write a code that takes a tuple and an elements as input. The function should return the count of occurences\n",
    "#                 of the given element in the tuple.\n",
    "\n",
    "def count(tup,element):\n",
    "    return tup.count(element)\n",
    "\n",
    "print(count((1,2,3,51,2,3,2,5,6,4,34,656),2))"
   ]
  },
  {
   "cell_type": "code",
   "execution_count": 3,
   "id": "db874461-6dca-4418-815e-d09b6b6d7cf4",
   "metadata": {},
   "outputs": [
    {
     "name": "stdin",
     "output_type": "stream",
     "text": [
      "Enter the size of first set 3\n",
      "Enter the size of second set 4\n"
     ]
    },
    {
     "name": "stdout",
     "output_type": "stream",
     "text": [
      "Enter the string elements of the first set\n"
     ]
    },
    {
     "name": "stdin",
     "output_type": "stream",
     "text": [
      " 1\n",
      " 2\n",
      " 3\n"
     ]
    },
    {
     "name": "stdout",
     "output_type": "stream",
     "text": [
      "Enter the string elements of the second set\n"
     ]
    },
    {
     "name": "stdin",
     "output_type": "stream",
     "text": [
      " 3\n",
      " 4\n",
      " 5\n",
      " 6\n"
     ]
    },
    {
     "name": "stdout",
     "output_type": "stream",
     "text": [
      "{'6', '5', '1', '4', '2'}\n"
     ]
    }
   ],
   "source": [
    "# Question 30. >> Develope a code that prompts the user to input two set of strings. Then, print the symmetric difference\n",
    "#                 of these two sets\n",
    "\n",
    "n1 = int(input(\"Enter the size of first set\"))\n",
    "n2 = int(input(\"Enter the size of second set\"))\n",
    "\n",
    "print(\"Enter the string elements of the first set\")\n",
    "set1 = set(input() for i in range(n1))\n",
    "\n",
    "print(\"Enter the string elements of the second set\")\n",
    "set2 = set(input() for i in range(n2))\n",
    "\n",
    "print(set1 ^ set2)"
   ]
  },
  {
   "cell_type": "code",
   "execution_count": 9,
   "id": "c002539a-cf26-4cbb-bab6-26451b6c9ebc",
   "metadata": {},
   "outputs": [
    {
     "name": "stdout",
     "output_type": "stream",
     "text": [
      "{1: 2, 2: 2, 3: 2, 4: 2, 5: 2, 6: 2, 7: 2, 8: 2, 9: 2, 0: 2}\n"
     ]
    }
   ],
   "source": [
    "# Question 31. >> Write a code that takes a list of words as input and returns a dictionary where keys are unique words and the\n",
    "#                 values are the frequencies of those words in input list.\n",
    "\n",
    "def freq(lis):\n",
    "    dic = {}\n",
    "    \n",
    "    for word in lis:\n",
    "        if word in dic:\n",
    "            dic[word] += 1\n",
    "        else:\n",
    "            dic[word] = 1\n",
    "            \n",
    "    return dic\n",
    "\n",
    "print(freq([1,2,3,4,5,6,7,8,9,0,0,9,8,7,6,5,4,3,2,1]))"
   ]
  },
  {
   "cell_type": "code",
   "execution_count": 11,
   "id": "9ee034d5-1f68-4890-892c-f89ddd42e4b8",
   "metadata": {},
   "outputs": [
    {
     "name": "stdout",
     "output_type": "stream",
     "text": [
      "{1: 2, 2: 6, 3: 1, 4: 7}\n"
     ]
    }
   ],
   "source": [
    "# Question 32. >> Write a code that takes two dictionaries as inputs and merges them into single dictionary.\n",
    "#                 If there are common keys, the value should be added together.\n",
    "\n",
    "def merge(dict1, dict2):\n",
    "    merged_dict = dict(dict1)\n",
    "    \n",
    "    for key, value in dict2.items():\n",
    "        if key in merged_dict:\n",
    "            merged_dict[key] += value\n",
    "        else:\n",
    "            merged_dict[key] = value\n",
    "    \n",
    "    return merged_dict\n",
    "\n",
    "\n",
    "print(merge({1:2,2:3}, {2:3,3:1,4:7}))"
   ]
  },
  {
   "cell_type": "code",
   "execution_count": 12,
   "id": "efda89f6-be05-4250-a0ea-7b5a50461a48",
   "metadata": {},
   "outputs": [
    {
     "name": "stdout",
     "output_type": "stream",
     "text": [
      "[{'age': 20, 'major': 'Computer Science', 'gpa': 3.5}, {'age': 19, 'major': 'Mathematics', 'gpa': 3.8}]\n"
     ]
    }
   ],
   "source": [
    "# Question 33. >> Write a code to access a value in a nested dictionary. The function should take the dictionary and a list of keys\n",
    "#                 as input, and return the corresponding value. If any of keys do not exist in the dictionary, the function should\n",
    "#                 return NONE.\n",
    "\n",
    "def val(dic,lis):\n",
    "    lis1 = []\n",
    "    \n",
    "    for i in lis:\n",
    "        if i in dic:\n",
    "            lis1.append(dic[i])\n",
    "        else:\n",
    "            lis1.append(\"NONE\")\n",
    "            \n",
    "    return lis1\n",
    "\n",
    "print(val({\n",
    "    'Alice': {'age': 20, 'major': 'Computer Science', 'gpa': 3.5},\n",
    "    'Bob': {'age': 21, 'major': 'Engineering', 'gpa': 3.2},\n",
    "    'Eve': {'age': 19, 'major': 'Mathematics', 'gpa': 3.8}\n",
    "}, ['Alice', 'Eve']))"
   ]
  },
  {
   "cell_type": "code",
   "execution_count": 17,
   "id": "5b650dfd-20f2-4841-936f-86c9e7aa673a",
   "metadata": {},
   "outputs": [
    {
     "name": "stdout",
     "output_type": "stream",
     "text": [
      "[('d', 1), ('b', 3), ('a', 5), ('c', 8)]\n"
     ]
    }
   ],
   "source": [
    "# Question 34. >> Write a code that takes a dictionary as input and return the sorted version of it based on values. \n",
    "\n",
    "def sort(dic):\n",
    "    return sorted(dic.items(), key=lambda item: item[1])\n",
    "\n",
    "print(sort({'a': 5, 'b': 3, 'c': 8, 'd': 1}))"
   ]
  },
  {
   "cell_type": "code",
   "execution_count": 27,
   "id": "78ba7893-93b0-438d-8977-e2c24d2e56cb",
   "metadata": {},
   "outputs": [
    {
     "name": "stdout",
     "output_type": "stream",
     "text": [
      "{5: ['a', 'e'], 3: ['b'], 8: ['c'], 1: ['d']}\n"
     ]
    }
   ],
   "source": [
    "# Question 35. >> Write a code that inverts a dicionary, swapping keys and values. Ensure that the inverted dictionary correctly\n",
    "#                 handles cases where multiple keys have same value by storing the keys as a list in the inverted dictionary.\n",
    "\n",
    "def invert(dic):\n",
    "    inverted_dict = {}\n",
    "    \n",
    "    for key, value in dic.items():\n",
    "        if value in inverted_dict:\n",
    "            inverted_dict[value].append(key)\n",
    "        else:\n",
    "            inverted_dict[value] = [key]\n",
    "            \n",
    "    return inverted_dict\n",
    "\n",
    "print(invert({'a': 5, 'b': 3, 'c': 8, 'd': 1, 'e' : 5}))"
   ]
  },
  {
   "cell_type": "code",
   "execution_count": null,
   "id": "851d5419-ba01-4ec6-abc0-443a4f81f6c3",
   "metadata": {},
   "outputs": [],
   "source": []
  }
 ],
 "metadata": {
  "kernelspec": {
   "display_name": "Python 3 (ipykernel)",
   "language": "python",
   "name": "python3"
  },
  "language_info": {
   "codemirror_mode": {
    "name": "ipython",
    "version": 3
   },
   "file_extension": ".py",
   "mimetype": "text/x-python",
   "name": "python",
   "nbconvert_exporter": "python",
   "pygments_lexer": "ipython3",
   "version": "3.10.8"
  }
 },
 "nbformat": 4,
 "nbformat_minor": 5
}
